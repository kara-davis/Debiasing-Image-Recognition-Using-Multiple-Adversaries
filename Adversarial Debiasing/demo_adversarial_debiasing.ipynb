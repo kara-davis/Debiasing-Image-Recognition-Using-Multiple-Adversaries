{
 "cells": [
  {
   "cell_type": "markdown",
   "metadata": {},
   "source": [
    "#### This notebook demonstrates the use of adversarial debiasing algorithm to learn a fair classifier.\n",
    "Adversarial debiasing [1] is an in-processing technique that learns a classifier to maximize prediction accuracy and simultaneously reduce an adversary's ability to determine the protected attribute from the predictions. This approach leads to a fair classifier as the predictions cannot carry any group discrimination information that the adversary can exploit. We will see how to use this algorithm for learning models with and without fairness constraints and apply them on the Adult dataset."
   ]
  },
  {
   "cell_type": "code",
   "execution_count": 16,
   "metadata": {},
   "outputs": [],
   "source": [
    "%matplotlib inline\n",
    "# Load all necessary packages\n",
    "import sys\n",
    "sys.path.append(\"../\")\n",
    "from aif360.datasets import BinaryLabelDataset\n",
    "from aif360.datasets import AdultDataset, GermanDataset, CompasDataset\n",
    "from aif360.metrics import BinaryLabelDatasetMetric\n",
    "from aif360.metrics import ClassificationMetric\n",
    "from aif360.metrics.utils import compute_boolean_conditioning_vector\n",
    "\n",
    "from aif360.algorithms.preprocessing.optim_preproc_helpers.data_preproc_functions import load_preproc_data_adult, load_preproc_data_compas, load_preproc_data_german\n",
    "\n",
    "from aif360.algorithms.inprocessing.adversarial_debiasing import AdversarialDebiasing\n",
    "\n",
    "from sklearn.linear_model import LogisticRegression\n",
    "from sklearn.preprocessing import StandardScaler, MaxAbsScaler\n",
    "from sklearn.metrics import accuracy_score\n",
    "\n",
    "from IPython.display import Markdown, display\n",
    "import matplotlib.pyplot as plt\n",
    "\n",
    "import tensorflow.compat.v1 as tf\n",
    "tf.disable_eager_execution()"
   ]
  },
  {
   "cell_type": "markdown",
   "metadata": {},
   "source": [
    "#### Load dataset and set options"
   ]
  },
  {
   "cell_type": "code",
   "execution_count": 17,
   "metadata": {},
   "outputs": [],
   "source": [
    "# Get the dataset and split into train and test\n",
    "dataset_orig = load_preproc_data_adult()\n",
    "\n",
    "privileged_groups = [{'sex': 1}]\n",
    "unprivileged_groups = [{'sex': 0}]\n",
    "\n",
    "dataset_orig_train, dataset_orig_test = dataset_orig.split([0.7], shuffle=True)"
   ]
  },
  {
   "cell_type": "code",
   "execution_count": 18,
   "metadata": {},
   "outputs": [
    {
     "data": {
      "text/markdown": [
       "#### Training Dataset shape"
      ],
      "text/plain": [
       "<IPython.core.display.Markdown object>"
      ]
     },
     "metadata": {},
     "output_type": "display_data"
    },
    {
     "name": "stdout",
     "output_type": "stream",
     "text": [
      "(34189, 18)\n"
     ]
    },
    {
     "data": {
      "text/markdown": [
       "#### Favorable and unfavorable labels"
      ],
      "text/plain": [
       "<IPython.core.display.Markdown object>"
      ]
     },
     "metadata": {},
     "output_type": "display_data"
    },
    {
     "name": "stdout",
     "output_type": "stream",
     "text": [
      "1.0 0.0\n"
     ]
    },
    {
     "data": {
      "text/markdown": [
       "#### Protected attribute names"
      ],
      "text/plain": [
       "<IPython.core.display.Markdown object>"
      ]
     },
     "metadata": {},
     "output_type": "display_data"
    },
    {
     "name": "stdout",
     "output_type": "stream",
     "text": [
      "['sex', 'race']\n"
     ]
    },
    {
     "data": {
      "text/markdown": [
       "#### Privileged and unprivileged protected attribute values"
      ],
      "text/plain": [
       "<IPython.core.display.Markdown object>"
      ]
     },
     "metadata": {},
     "output_type": "display_data"
    },
    {
     "name": "stdout",
     "output_type": "stream",
     "text": [
      "[array([1.]), array([1.])] [array([0.]), array([0.])]\n"
     ]
    },
    {
     "data": {
      "text/markdown": [
       "#### Dataset feature names"
      ],
      "text/plain": [
       "<IPython.core.display.Markdown object>"
      ]
     },
     "metadata": {},
     "output_type": "display_data"
    },
    {
     "name": "stdout",
     "output_type": "stream",
     "text": [
      "['race', 'sex', 'Age (decade)=10', 'Age (decade)=20', 'Age (decade)=30', 'Age (decade)=40', 'Age (decade)=50', 'Age (decade)=60', 'Age (decade)=>=70', 'Education Years=6', 'Education Years=7', 'Education Years=8', 'Education Years=9', 'Education Years=10', 'Education Years=11', 'Education Years=12', 'Education Years=<6', 'Education Years=>12']\n"
     ]
    }
   ],
   "source": [
    "# print out some labels, names, etc.\n",
    "display(Markdown(\"#### Training Dataset shape\"))\n",
    "print(dataset_orig_train.features.shape)\n",
    "display(Markdown(\"#### Favorable and unfavorable labels\"))\n",
    "print(dataset_orig_train.favorable_label, dataset_orig_train.unfavorable_label)\n",
    "display(Markdown(\"#### Protected attribute names\"))\n",
    "print(dataset_orig_train.protected_attribute_names)\n",
    "display(Markdown(\"#### Privileged and unprivileged protected attribute values\"))\n",
    "print(dataset_orig_train.privileged_protected_attributes, \n",
    "      dataset_orig_train.unprivileged_protected_attributes)\n",
    "display(Markdown(\"#### Dataset feature names\"))\n",
    "print(dataset_orig_train.feature_names)"
   ]
  },
  {
   "cell_type": "markdown",
   "metadata": {},
   "source": [
    "#### Metric for original training data"
   ]
  },
  {
   "cell_type": "code",
   "execution_count": 19,
   "metadata": {},
   "outputs": [
    {
     "data": {
      "text/markdown": [
       "#### Original training dataset"
      ],
      "text/plain": [
       "<IPython.core.display.Markdown object>"
      ]
     },
     "metadata": {},
     "output_type": "display_data"
    },
    {
     "name": "stdout",
     "output_type": "stream",
     "text": [
      "Train set: Difference in mean outcomes between unprivileged and privileged groups = -0.194810\n",
      "Test set: Difference in mean outcomes between unprivileged and privileged groups = -0.193828\n"
     ]
    }
   ],
   "source": [
    "# Metric for the original dataset\n",
    "metric_orig_train = BinaryLabelDatasetMetric(dataset_orig_train, \n",
    "                                             unprivileged_groups=unprivileged_groups,\n",
    "                                             privileged_groups=privileged_groups)\n",
    "display(Markdown(\"#### Original training dataset\"))\n",
    "print(\"Train set: Difference in mean outcomes between unprivileged and privileged groups = %f\" % metric_orig_train.mean_difference())\n",
    "metric_orig_test = BinaryLabelDatasetMetric(dataset_orig_test, \n",
    "                                             unprivileged_groups=unprivileged_groups,\n",
    "                                             privileged_groups=privileged_groups)\n",
    "print(\"Test set: Difference in mean outcomes between unprivileged and privileged groups = %f\" % metric_orig_test.mean_difference())"
   ]
  },
  {
   "cell_type": "code",
   "execution_count": 20,
   "metadata": {},
   "outputs": [
    {
     "data": {
      "text/markdown": [
       "#### Scaled dataset - Verify that the scaling does not affect the group label statistics"
      ],
      "text/plain": [
       "<IPython.core.display.Markdown object>"
      ]
     },
     "metadata": {},
     "output_type": "display_data"
    },
    {
     "name": "stdout",
     "output_type": "stream",
     "text": [
      "Train set: Difference in mean outcomes between unprivileged and privileged groups = -0.194810\n",
      "Test set: Difference in mean outcomes between unprivileged and privileged groups = -0.193828\n"
     ]
    }
   ],
   "source": [
    "min_max_scaler = MaxAbsScaler()\n",
    "dataset_orig_train.features = min_max_scaler.fit_transform(dataset_orig_train.features)\n",
    "dataset_orig_test.features = min_max_scaler.transform(dataset_orig_test.features)\n",
    "metric_scaled_train = BinaryLabelDatasetMetric(dataset_orig_train, \n",
    "                             unprivileged_groups=unprivileged_groups,\n",
    "                             privileged_groups=privileged_groups)\n",
    "display(Markdown(\"#### Scaled dataset - Verify that the scaling does not affect the group label statistics\"))\n",
    "print(\"Train set: Difference in mean outcomes between unprivileged and privileged groups = %f\" % metric_scaled_train.mean_difference())\n",
    "metric_scaled_test = BinaryLabelDatasetMetric(dataset_orig_test, \n",
    "                             unprivileged_groups=unprivileged_groups,\n",
    "                             privileged_groups=privileged_groups)\n",
    "print(\"Test set: Difference in mean outcomes between unprivileged and privileged groups = %f\" % metric_scaled_test.mean_difference())\n"
   ]
  },
  {
   "cell_type": "markdown",
   "metadata": {},
   "source": [
    "### Learn plan classifier without debiasing"
   ]
  },
  {
   "cell_type": "code",
   "execution_count": 22,
   "metadata": {},
   "outputs": [],
   "source": [
    "# Load post-processing algorithm that equalizes the odds\n",
    "# Learn parameters with debias set to False\n",
    "sess = tf.Session()\n",
    "plain_model = AdversarialDebiasing(privileged_groups = privileged_groups,\n",
    "                          unprivileged_groups = unprivileged_groups,\n",
    "                          scope_name='plain_classifier',\n",
    "                          debias=False,\n",
    "                          sess=sess)"
   ]
  },
  {
   "cell_type": "code",
   "execution_count": 23,
   "metadata": {
    "scrolled": true
   },
   "outputs": [
    {
     "name": "stdout",
     "output_type": "stream",
     "text": [
      "epoch 0; iter: 0; batch classifier loss: 0.674347\n",
      "epoch 0; iter: 200; batch classifier loss: 0.391868\n",
      "epoch 1; iter: 0; batch classifier loss: 0.433437\n",
      "epoch 1; iter: 200; batch classifier loss: 0.400098\n",
      "epoch 2; iter: 0; batch classifier loss: 0.441567\n",
      "epoch 2; iter: 200; batch classifier loss: 0.435208\n",
      "epoch 3; iter: 0; batch classifier loss: 0.407691\n",
      "epoch 3; iter: 200; batch classifier loss: 0.495120\n",
      "epoch 4; iter: 0; batch classifier loss: 0.418365\n",
      "epoch 4; iter: 200; batch classifier loss: 0.458690\n",
      "epoch 5; iter: 0; batch classifier loss: 0.403529\n",
      "epoch 5; iter: 200; batch classifier loss: 0.419510\n",
      "epoch 6; iter: 0; batch classifier loss: 0.353665\n",
      "epoch 6; iter: 200; batch classifier loss: 0.447192\n",
      "epoch 7; iter: 0; batch classifier loss: 0.385582\n",
      "epoch 7; iter: 200; batch classifier loss: 0.457860\n",
      "epoch 8; iter: 0; batch classifier loss: 0.414343\n",
      "epoch 8; iter: 200; batch classifier loss: 0.494077\n",
      "epoch 9; iter: 0; batch classifier loss: 0.330090\n",
      "epoch 9; iter: 200; batch classifier loss: 0.443655\n",
      "epoch 10; iter: 0; batch classifier loss: 0.368273\n",
      "epoch 10; iter: 200; batch classifier loss: 0.437932\n",
      "epoch 11; iter: 0; batch classifier loss: 0.406526\n",
      "epoch 11; iter: 200; batch classifier loss: 0.338099\n",
      "epoch 12; iter: 0; batch classifier loss: 0.401285\n",
      "epoch 12; iter: 200; batch classifier loss: 0.391908\n",
      "epoch 13; iter: 0; batch classifier loss: 0.388078\n",
      "epoch 13; iter: 200; batch classifier loss: 0.448770\n",
      "epoch 14; iter: 0; batch classifier loss: 0.386663\n",
      "epoch 14; iter: 200; batch classifier loss: 0.457311\n",
      "epoch 15; iter: 0; batch classifier loss: 0.441513\n",
      "epoch 15; iter: 200; batch classifier loss: 0.326706\n",
      "epoch 16; iter: 0; batch classifier loss: 0.412022\n",
      "epoch 16; iter: 200; batch classifier loss: 0.483401\n",
      "epoch 17; iter: 0; batch classifier loss: 0.309378\n",
      "epoch 17; iter: 200; batch classifier loss: 0.433519\n",
      "epoch 18; iter: 0; batch classifier loss: 0.358297\n",
      "epoch 18; iter: 200; batch classifier loss: 0.501081\n",
      "epoch 19; iter: 0; batch classifier loss: 0.385357\n",
      "epoch 19; iter: 200; batch classifier loss: 0.546846\n",
      "epoch 20; iter: 0; batch classifier loss: 0.497279\n",
      "epoch 20; iter: 200; batch classifier loss: 0.373517\n",
      "epoch 21; iter: 0; batch classifier loss: 0.360626\n",
      "epoch 21; iter: 200; batch classifier loss: 0.421960\n",
      "epoch 22; iter: 0; batch classifier loss: 0.390672\n",
      "epoch 22; iter: 200; batch classifier loss: 0.393472\n",
      "epoch 23; iter: 0; batch classifier loss: 0.471711\n",
      "epoch 23; iter: 200; batch classifier loss: 0.373970\n",
      "epoch 24; iter: 0; batch classifier loss: 0.531210\n",
      "epoch 24; iter: 200; batch classifier loss: 0.327655\n",
      "epoch 25; iter: 0; batch classifier loss: 0.436345\n",
      "epoch 25; iter: 200; batch classifier loss: 0.485570\n",
      "epoch 26; iter: 0; batch classifier loss: 0.425653\n",
      "epoch 26; iter: 200; batch classifier loss: 0.451156\n",
      "epoch 27; iter: 0; batch classifier loss: 0.390430\n",
      "epoch 27; iter: 200; batch classifier loss: 0.409045\n",
      "epoch 28; iter: 0; batch classifier loss: 0.419059\n",
      "epoch 28; iter: 200; batch classifier loss: 0.418782\n",
      "epoch 29; iter: 0; batch classifier loss: 0.381728\n",
      "epoch 29; iter: 200; batch classifier loss: 0.430503\n",
      "epoch 30; iter: 0; batch classifier loss: 0.358598\n",
      "epoch 30; iter: 200; batch classifier loss: 0.389059\n",
      "epoch 31; iter: 0; batch classifier loss: 0.452888\n",
      "epoch 31; iter: 200; batch classifier loss: 0.417149\n",
      "epoch 32; iter: 0; batch classifier loss: 0.423452\n",
      "epoch 32; iter: 200; batch classifier loss: 0.379996\n",
      "epoch 33; iter: 0; batch classifier loss: 0.314457\n",
      "epoch 33; iter: 200; batch classifier loss: 0.488266\n",
      "epoch 34; iter: 0; batch classifier loss: 0.383695\n",
      "epoch 34; iter: 200; batch classifier loss: 0.418803\n",
      "epoch 35; iter: 0; batch classifier loss: 0.457297\n",
      "epoch 35; iter: 200; batch classifier loss: 0.404060\n",
      "epoch 36; iter: 0; batch classifier loss: 0.424327\n",
      "epoch 36; iter: 200; batch classifier loss: 0.371264\n",
      "epoch 37; iter: 0; batch classifier loss: 0.493779\n",
      "epoch 37; iter: 200; batch classifier loss: 0.473977\n",
      "epoch 38; iter: 0; batch classifier loss: 0.401214\n",
      "epoch 38; iter: 200; batch classifier loss: 0.438475\n",
      "epoch 39; iter: 0; batch classifier loss: 0.467543\n",
      "epoch 39; iter: 200; batch classifier loss: 0.408067\n",
      "epoch 40; iter: 0; batch classifier loss: 0.344291\n",
      "epoch 40; iter: 200; batch classifier loss: 0.377740\n",
      "epoch 41; iter: 0; batch classifier loss: 0.412424\n",
      "epoch 41; iter: 200; batch classifier loss: 0.382470\n",
      "epoch 42; iter: 0; batch classifier loss: 0.427152\n",
      "epoch 42; iter: 200; batch classifier loss: 0.431131\n",
      "epoch 43; iter: 0; batch classifier loss: 0.441643\n",
      "epoch 43; iter: 200; batch classifier loss: 0.425312\n",
      "epoch 44; iter: 0; batch classifier loss: 0.398242\n",
      "epoch 44; iter: 200; batch classifier loss: 0.323843\n",
      "epoch 45; iter: 0; batch classifier loss: 0.443525\n",
      "epoch 45; iter: 200; batch classifier loss: 0.399422\n",
      "epoch 46; iter: 0; batch classifier loss: 0.369329\n",
      "epoch 46; iter: 200; batch classifier loss: 0.462025\n",
      "epoch 47; iter: 0; batch classifier loss: 0.414093\n",
      "epoch 47; iter: 200; batch classifier loss: 0.407700\n",
      "epoch 48; iter: 0; batch classifier loss: 0.455485\n",
      "epoch 48; iter: 200; batch classifier loss: 0.449841\n",
      "epoch 49; iter: 0; batch classifier loss: 0.425098\n",
      "epoch 49; iter: 200; batch classifier loss: 0.383193\n"
     ]
    },
    {
     "data": {
      "text/plain": [
       "<aif360.algorithms.inprocessing.adversarial_debiasing.AdversarialDebiasing at 0x23d96109fc8>"
      ]
     },
     "execution_count": 23,
     "metadata": {},
     "output_type": "execute_result"
    }
   ],
   "source": [
    "plain_model.fit(dataset_orig_train)"
   ]
  },
  {
   "cell_type": "code",
   "execution_count": 24,
   "metadata": {},
   "outputs": [],
   "source": [
    "# Apply the plain model to test data\n",
    "dataset_nodebiasing_train = plain_model.predict(dataset_orig_train)\n",
    "dataset_nodebiasing_test = plain_model.predict(dataset_orig_test)"
   ]
  },
  {
   "cell_type": "code",
   "execution_count": 25,
   "metadata": {},
   "outputs": [
    {
     "data": {
      "text/markdown": [
       "#### Plain model - without debiasing - dataset metrics"
      ],
      "text/plain": [
       "<IPython.core.display.Markdown object>"
      ]
     },
     "metadata": {},
     "output_type": "display_data"
    },
    {
     "name": "stdout",
     "output_type": "stream",
     "text": [
      "Train set: Difference in mean outcomes between unprivileged and privileged groups = -0.209651\n",
      "Test set: Difference in mean outcomes between unprivileged and privileged groups = -0.205555\n"
     ]
    },
    {
     "data": {
      "text/markdown": [
       "#### Plain model - without debiasing - classification metrics"
      ],
      "text/plain": [
       "<IPython.core.display.Markdown object>"
      ]
     },
     "metadata": {},
     "output_type": "display_data"
    },
    {
     "name": "stdout",
     "output_type": "stream",
     "text": [
      "Test set: Classification accuracy = 0.805978\n",
      "Test set: Balanced classification accuracy = 0.659291\n",
      "Test set: Disparate impact = 0.000000\n",
      "Test set: Equal opportunity difference = -0.447797\n",
      "Test set: Average odds difference = -0.274461\n",
      "Test set: Theil_index = 0.177591\n"
     ]
    }
   ],
   "source": [
    "# Metrics for the dataset from plain model (without debiasing)\n",
    "display(Markdown(\"#### Plain model - without debiasing - dataset metrics\"))\n",
    "metric_dataset_nodebiasing_train = BinaryLabelDatasetMetric(dataset_nodebiasing_train, \n",
    "                                             unprivileged_groups=unprivileged_groups,\n",
    "                                             privileged_groups=privileged_groups)\n",
    "\n",
    "print(\"Train set: Difference in mean outcomes between unprivileged and privileged groups = %f\" % metric_dataset_nodebiasing_train.mean_difference())\n",
    "\n",
    "metric_dataset_nodebiasing_test = BinaryLabelDatasetMetric(dataset_nodebiasing_test, \n",
    "                                             unprivileged_groups=unprivileged_groups,\n",
    "                                             privileged_groups=privileged_groups)\n",
    "\n",
    "print(\"Test set: Difference in mean outcomes between unprivileged and privileged groups = %f\" % metric_dataset_nodebiasing_test.mean_difference())\n",
    "\n",
    "display(Markdown(\"#### Plain model - without debiasing - classification metrics\"))\n",
    "classified_metric_nodebiasing_test = ClassificationMetric(dataset_orig_test, \n",
    "                                                 dataset_nodebiasing_test,\n",
    "                                                 unprivileged_groups=unprivileged_groups,\n",
    "                                                 privileged_groups=privileged_groups)\n",
    "print(\"Test set: Classification accuracy = %f\" % classified_metric_nodebiasing_test.accuracy())\n",
    "TPR = classified_metric_nodebiasing_test.true_positive_rate()\n",
    "TNR = classified_metric_nodebiasing_test.true_negative_rate()\n",
    "bal_acc_nodebiasing_test = 0.5*(TPR+TNR)\n",
    "print(\"Test set: Balanced classification accuracy = %f\" % bal_acc_nodebiasing_test)\n",
    "print(\"Test set: Disparate impact = %f\" % classified_metric_nodebiasing_test.disparate_impact())\n",
    "print(\"Test set: Equal opportunity difference = %f\" % classified_metric_nodebiasing_test.equal_opportunity_difference())\n",
    "print(\"Test set: Average odds difference = %f\" % classified_metric_nodebiasing_test.average_odds_difference())\n",
    "print(\"Test set: Theil_index = %f\" % classified_metric_nodebiasing_test.theil_index())"
   ]
  },
  {
   "cell_type": "markdown",
   "metadata": {},
   "source": [
    "### Apply in-processing algorithm based on adversarial learning"
   ]
  },
  {
   "cell_type": "code",
   "execution_count": 26,
   "metadata": {},
   "outputs": [],
   "source": [
    "sess.close()\n",
    "tf.reset_default_graph()\n",
    "sess = tf.Session()"
   ]
  },
  {
   "cell_type": "code",
   "execution_count": 27,
   "metadata": {},
   "outputs": [],
   "source": [
    "# Learn parameters with debias set to True\n",
    "debiased_model = AdversarialDebiasing(privileged_groups = privileged_groups,\n",
    "                          unprivileged_groups = unprivileged_groups,\n",
    "                          scope_name='debiased_classifier',\n",
    "                          debias=True,\n",
    "                          sess=sess)"
   ]
  },
  {
   "cell_type": "code",
   "execution_count": 28,
   "metadata": {
    "scrolled": true
   },
   "outputs": [
    {
     "name": "stdout",
     "output_type": "stream",
     "text": [
      "epoch 0; iter: 0; batch classifier loss: 0.736992; batch adversarial loss: 0.701003\n",
      "epoch 0; iter: 200; batch classifier loss: 0.552313; batch adversarial loss: 0.642390\n",
      "epoch 1; iter: 0; batch classifier loss: 0.354874; batch adversarial loss: 0.650146\n",
      "epoch 1; iter: 200; batch classifier loss: 0.367126; batch adversarial loss: 0.644355\n",
      "epoch 2; iter: 0; batch classifier loss: 0.452880; batch adversarial loss: 0.628797\n",
      "epoch 2; iter: 200; batch classifier loss: 0.394317; batch adversarial loss: 0.672779\n",
      "epoch 3; iter: 0; batch classifier loss: 0.396049; batch adversarial loss: 0.621009\n",
      "epoch 3; iter: 200; batch classifier loss: 0.411996; batch adversarial loss: 0.636706\n",
      "epoch 4; iter: 0; batch classifier loss: 0.398710; batch adversarial loss: 0.658660\n",
      "epoch 4; iter: 200; batch classifier loss: 0.431125; batch adversarial loss: 0.620367\n",
      "epoch 5; iter: 0; batch classifier loss: 0.372357; batch adversarial loss: 0.604922\n",
      "epoch 5; iter: 200; batch classifier loss: 0.410299; batch adversarial loss: 0.617890\n",
      "epoch 6; iter: 0; batch classifier loss: 0.474415; batch adversarial loss: 0.628442\n",
      "epoch 6; iter: 200; batch classifier loss: 0.381813; batch adversarial loss: 0.623560\n",
      "epoch 7; iter: 0; batch classifier loss: 0.355309; batch adversarial loss: 0.560354\n",
      "epoch 7; iter: 200; batch classifier loss: 0.434700; batch adversarial loss: 0.585384\n",
      "epoch 8; iter: 0; batch classifier loss: 0.445987; batch adversarial loss: 0.545115\n",
      "epoch 8; iter: 200; batch classifier loss: 0.401164; batch adversarial loss: 0.591070\n",
      "epoch 9; iter: 0; batch classifier loss: 0.472009; batch adversarial loss: 0.613504\n",
      "epoch 9; iter: 200; batch classifier loss: 0.412440; batch adversarial loss: 0.609078\n",
      "epoch 10; iter: 0; batch classifier loss: 0.473454; batch adversarial loss: 0.569397\n",
      "epoch 10; iter: 200; batch classifier loss: 0.385042; batch adversarial loss: 0.605723\n",
      "epoch 11; iter: 0; batch classifier loss: 0.437411; batch adversarial loss: 0.575352\n",
      "epoch 11; iter: 200; batch classifier loss: 0.395547; batch adversarial loss: 0.530576\n",
      "epoch 12; iter: 0; batch classifier loss: 0.411525; batch adversarial loss: 0.597363\n",
      "epoch 12; iter: 200; batch classifier loss: 0.449630; batch adversarial loss: 0.631424\n",
      "epoch 13; iter: 0; batch classifier loss: 0.444712; batch adversarial loss: 0.562798\n",
      "epoch 13; iter: 200; batch classifier loss: 0.405694; batch adversarial loss: 0.603288\n",
      "epoch 14; iter: 0; batch classifier loss: 0.477410; batch adversarial loss: 0.541668\n",
      "epoch 14; iter: 200; batch classifier loss: 0.424516; batch adversarial loss: 0.583655\n",
      "epoch 15; iter: 0; batch classifier loss: 0.541082; batch adversarial loss: 0.673411\n",
      "epoch 15; iter: 200; batch classifier loss: 0.431080; batch adversarial loss: 0.616896\n",
      "epoch 16; iter: 0; batch classifier loss: 0.430462; batch adversarial loss: 0.588295\n",
      "epoch 16; iter: 200; batch classifier loss: 0.401956; batch adversarial loss: 0.636051\n",
      "epoch 17; iter: 0; batch classifier loss: 0.497799; batch adversarial loss: 0.609399\n",
      "epoch 17; iter: 200; batch classifier loss: 0.410111; batch adversarial loss: 0.575486\n",
      "epoch 18; iter: 0; batch classifier loss: 0.410461; batch adversarial loss: 0.588220\n",
      "epoch 18; iter: 200; batch classifier loss: 0.372358; batch adversarial loss: 0.635550\n",
      "epoch 19; iter: 0; batch classifier loss: 0.383515; batch adversarial loss: 0.621773\n",
      "epoch 19; iter: 200; batch classifier loss: 0.432016; batch adversarial loss: 0.641507\n",
      "epoch 20; iter: 0; batch classifier loss: 0.342053; batch adversarial loss: 0.581203\n",
      "epoch 20; iter: 200; batch classifier loss: 0.419336; batch adversarial loss: 0.571321\n",
      "epoch 21; iter: 0; batch classifier loss: 0.440520; batch adversarial loss: 0.610364\n",
      "epoch 21; iter: 200; batch classifier loss: 0.422891; batch adversarial loss: 0.603939\n",
      "epoch 22; iter: 0; batch classifier loss: 0.381302; batch adversarial loss: 0.563795\n",
      "epoch 22; iter: 200; batch classifier loss: 0.478936; batch adversarial loss: 0.593160\n",
      "epoch 23; iter: 0; batch classifier loss: 0.613712; batch adversarial loss: 0.629603\n",
      "epoch 23; iter: 200; batch classifier loss: 0.447981; batch adversarial loss: 0.645772\n",
      "epoch 24; iter: 0; batch classifier loss: 0.331873; batch adversarial loss: 0.644754\n",
      "epoch 24; iter: 200; batch classifier loss: 0.371267; batch adversarial loss: 0.630375\n",
      "epoch 25; iter: 0; batch classifier loss: 0.420866; batch adversarial loss: 0.620260\n",
      "epoch 25; iter: 200; batch classifier loss: 0.423316; batch adversarial loss: 0.688085\n",
      "epoch 26; iter: 0; batch classifier loss: 0.431258; batch adversarial loss: 0.531365\n",
      "epoch 26; iter: 200; batch classifier loss: 0.376099; batch adversarial loss: 0.571127\n",
      "epoch 27; iter: 0; batch classifier loss: 0.500637; batch adversarial loss: 0.636693\n",
      "epoch 27; iter: 200; batch classifier loss: 0.432626; batch adversarial loss: 0.655076\n",
      "epoch 28; iter: 0; batch classifier loss: 0.404100; batch adversarial loss: 0.622356\n",
      "epoch 28; iter: 200; batch classifier loss: 0.379853; batch adversarial loss: 0.602528\n",
      "epoch 29; iter: 0; batch classifier loss: 0.452887; batch adversarial loss: 0.618576\n",
      "epoch 29; iter: 200; batch classifier loss: 0.389244; batch adversarial loss: 0.597029\n",
      "epoch 30; iter: 0; batch classifier loss: 0.335392; batch adversarial loss: 0.654999\n",
      "epoch 30; iter: 200; batch classifier loss: 0.410892; batch adversarial loss: 0.602779\n",
      "epoch 31; iter: 0; batch classifier loss: 0.427729; batch adversarial loss: 0.644179\n",
      "epoch 31; iter: 200; batch classifier loss: 0.425112; batch adversarial loss: 0.586953\n",
      "epoch 32; iter: 0; batch classifier loss: 0.369303; batch adversarial loss: 0.597776\n",
      "epoch 32; iter: 200; batch classifier loss: 0.418243; batch adversarial loss: 0.648730\n",
      "epoch 33; iter: 0; batch classifier loss: 0.430566; batch adversarial loss: 0.606365\n",
      "epoch 33; iter: 200; batch classifier loss: 0.432793; batch adversarial loss: 0.593476\n",
      "epoch 34; iter: 0; batch classifier loss: 0.463544; batch adversarial loss: 0.612620\n",
      "epoch 34; iter: 200; batch classifier loss: 0.470580; batch adversarial loss: 0.645002\n",
      "epoch 35; iter: 0; batch classifier loss: 0.446850; batch adversarial loss: 0.585831\n",
      "epoch 35; iter: 200; batch classifier loss: 0.478849; batch adversarial loss: 0.610849\n",
      "epoch 36; iter: 0; batch classifier loss: 0.451928; batch adversarial loss: 0.598076\n",
      "epoch 36; iter: 200; batch classifier loss: 0.429202; batch adversarial loss: 0.590980\n",
      "epoch 37; iter: 0; batch classifier loss: 0.386344; batch adversarial loss: 0.632146\n",
      "epoch 37; iter: 200; batch classifier loss: 0.445219; batch adversarial loss: 0.622106\n",
      "epoch 38; iter: 0; batch classifier loss: 0.511622; batch adversarial loss: 0.603257\n",
      "epoch 38; iter: 200; batch classifier loss: 0.416165; batch adversarial loss: 0.599178\n",
      "epoch 39; iter: 0; batch classifier loss: 0.392643; batch adversarial loss: 0.654482\n",
      "epoch 39; iter: 200; batch classifier loss: 0.401231; batch adversarial loss: 0.607316\n",
      "epoch 40; iter: 0; batch classifier loss: 0.509580; batch adversarial loss: 0.538901\n",
      "epoch 40; iter: 200; batch classifier loss: 0.475368; batch adversarial loss: 0.619533\n",
      "epoch 41; iter: 0; batch classifier loss: 0.427605; batch adversarial loss: 0.601806\n",
      "epoch 41; iter: 200; batch classifier loss: 0.466229; batch adversarial loss: 0.667436\n",
      "epoch 42; iter: 0; batch classifier loss: 0.454831; batch adversarial loss: 0.540355\n",
      "epoch 42; iter: 200; batch classifier loss: 0.510975; batch adversarial loss: 0.619637\n",
      "epoch 43; iter: 0; batch classifier loss: 0.422410; batch adversarial loss: 0.637647\n",
      "epoch 43; iter: 200; batch classifier loss: 0.500566; batch adversarial loss: 0.619538\n",
      "epoch 44; iter: 0; batch classifier loss: 0.419929; batch adversarial loss: 0.584581\n",
      "epoch 44; iter: 200; batch classifier loss: 0.456003; batch adversarial loss: 0.596534\n",
      "epoch 45; iter: 0; batch classifier loss: 0.517925; batch adversarial loss: 0.551111\n",
      "epoch 45; iter: 200; batch classifier loss: 0.433277; batch adversarial loss: 0.586938\n",
      "epoch 46; iter: 0; batch classifier loss: 0.543566; batch adversarial loss: 0.593704\n",
      "epoch 46; iter: 200; batch classifier loss: 0.464498; batch adversarial loss: 0.649962\n",
      "epoch 47; iter: 0; batch classifier loss: 0.467860; batch adversarial loss: 0.594439\n",
      "epoch 47; iter: 200; batch classifier loss: 0.444701; batch adversarial loss: 0.610458\n",
      "epoch 48; iter: 0; batch classifier loss: 0.461192; batch adversarial loss: 0.661138\n"
     ]
    },
    {
     "name": "stdout",
     "output_type": "stream",
     "text": [
      "epoch 48; iter: 200; batch classifier loss: 0.406488; batch adversarial loss: 0.550973\n",
      "epoch 49; iter: 0; batch classifier loss: 0.412348; batch adversarial loss: 0.573795\n",
      "epoch 49; iter: 200; batch classifier loss: 0.425530; batch adversarial loss: 0.572702\n"
     ]
    },
    {
     "data": {
      "text/plain": [
       "<aif360.algorithms.inprocessing.adversarial_debiasing.AdversarialDebiasing at 0x23d955c0e88>"
      ]
     },
     "execution_count": 28,
     "metadata": {},
     "output_type": "execute_result"
    }
   ],
   "source": [
    "debiased_model.fit(dataset_orig_train)"
   ]
  },
  {
   "cell_type": "code",
   "execution_count": 29,
   "metadata": {},
   "outputs": [],
   "source": [
    "# Apply the plain model to test data\n",
    "dataset_debiasing_train = debiased_model.predict(dataset_orig_train)\n",
    "dataset_debiasing_test = debiased_model.predict(dataset_orig_test)"
   ]
  },
  {
   "cell_type": "code",
   "execution_count": 30,
   "metadata": {},
   "outputs": [
    {
     "data": {
      "text/markdown": [
       "#### Plain model - without debiasing - dataset metrics"
      ],
      "text/plain": [
       "<IPython.core.display.Markdown object>"
      ]
     },
     "metadata": {},
     "output_type": "display_data"
    },
    {
     "name": "stdout",
     "output_type": "stream",
     "text": [
      "Train set: Difference in mean outcomes between unprivileged and privileged groups = -0.209651\n",
      "Test set: Difference in mean outcomes between unprivileged and privileged groups = -0.205555\n"
     ]
    },
    {
     "data": {
      "text/markdown": [
       "#### Model - with debiasing - dataset metrics"
      ],
      "text/plain": [
       "<IPython.core.display.Markdown object>"
      ]
     },
     "metadata": {},
     "output_type": "display_data"
    },
    {
     "name": "stdout",
     "output_type": "stream",
     "text": [
      "Train set: Difference in mean outcomes between unprivileged and privileged groups = -0.139003\n",
      "Test set: Difference in mean outcomes between unprivileged and privileged groups = -0.137160\n"
     ]
    },
    {
     "data": {
      "text/markdown": [
       "#### Plain model - without debiasing - classification metrics"
      ],
      "text/plain": [
       "<IPython.core.display.Markdown object>"
      ]
     },
     "metadata": {},
     "output_type": "display_data"
    },
    {
     "name": "stdout",
     "output_type": "stream",
     "text": [
      "Test set: Classification accuracy = 0.805978\n",
      "Test set: Balanced classification accuracy = 0.659291\n",
      "Test set: Disparate impact = 0.000000\n",
      "Test set: Equal opportunity difference = -0.447797\n",
      "Test set: Average odds difference = -0.274461\n",
      "Test set: Theil_index = 0.177591\n"
     ]
    },
    {
     "data": {
      "text/markdown": [
       "#### Model - with debiasing - classification metrics"
      ],
      "text/plain": [
       "<IPython.core.display.Markdown object>"
      ]
     },
     "metadata": {},
     "output_type": "display_data"
    },
    {
     "name": "stdout",
     "output_type": "stream",
     "text": [
      "Test set: Classification accuracy = 0.799154\n",
      "Test set: Balanced classification accuracy = 0.664351\n",
      "Test set: Disparate impact = 0.323661\n",
      "Test set: Equal opportunity difference = -0.236832\n",
      "Test set: Average odds difference = -0.143563\n",
      "Test set: Theil_index = 0.174275\n"
     ]
    }
   ],
   "source": [
    "# Metrics for the dataset from plain model (without debiasing)\n",
    "display(Markdown(\"#### Plain model - without debiasing - dataset metrics\"))\n",
    "print(\"Train set: Difference in mean outcomes between unprivileged and privileged groups = %f\" % metric_dataset_nodebiasing_train.mean_difference())\n",
    "print(\"Test set: Difference in mean outcomes between unprivileged and privileged groups = %f\" % metric_dataset_nodebiasing_test.mean_difference())\n",
    "\n",
    "# Metrics for the dataset from model with debiasing\n",
    "display(Markdown(\"#### Model - with debiasing - dataset metrics\"))\n",
    "metric_dataset_debiasing_train = BinaryLabelDatasetMetric(dataset_debiasing_train, \n",
    "                                             unprivileged_groups=unprivileged_groups,\n",
    "                                             privileged_groups=privileged_groups)\n",
    "\n",
    "print(\"Train set: Difference in mean outcomes between unprivileged and privileged groups = %f\" % metric_dataset_debiasing_train.mean_difference())\n",
    "\n",
    "metric_dataset_debiasing_test = BinaryLabelDatasetMetric(dataset_debiasing_test, \n",
    "                                             unprivileged_groups=unprivileged_groups,\n",
    "                                             privileged_groups=privileged_groups)\n",
    "\n",
    "print(\"Test set: Difference in mean outcomes between unprivileged and privileged groups = %f\" % metric_dataset_debiasing_test.mean_difference())\n",
    "\n",
    "\n",
    "\n",
    "display(Markdown(\"#### Plain model - without debiasing - classification metrics\"))\n",
    "print(\"Test set: Classification accuracy = %f\" % classified_metric_nodebiasing_test.accuracy())\n",
    "TPR = classified_metric_nodebiasing_test.true_positive_rate()\n",
    "TNR = classified_metric_nodebiasing_test.true_negative_rate()\n",
    "bal_acc_nodebiasing_test = 0.5*(TPR+TNR)\n",
    "print(\"Test set: Balanced classification accuracy = %f\" % bal_acc_nodebiasing_test)\n",
    "print(\"Test set: Disparate impact = %f\" % classified_metric_nodebiasing_test.disparate_impact())\n",
    "print(\"Test set: Equal opportunity difference = %f\" % classified_metric_nodebiasing_test.equal_opportunity_difference())\n",
    "print(\"Test set: Average odds difference = %f\" % classified_metric_nodebiasing_test.average_odds_difference())\n",
    "print(\"Test set: Theil_index = %f\" % classified_metric_nodebiasing_test.theil_index())\n",
    "\n",
    "\n",
    "\n",
    "display(Markdown(\"#### Model - with debiasing - classification metrics\"))\n",
    "classified_metric_debiasing_test = ClassificationMetric(dataset_orig_test, \n",
    "                                                 dataset_debiasing_test,\n",
    "                                                 unprivileged_groups=unprivileged_groups,\n",
    "                                                 privileged_groups=privileged_groups)\n",
    "print(\"Test set: Classification accuracy = %f\" % classified_metric_debiasing_test.accuracy())\n",
    "TPR = classified_metric_debiasing_test.true_positive_rate()\n",
    "TNR = classified_metric_debiasing_test.true_negative_rate()\n",
    "bal_acc_debiasing_test = 0.5*(TPR+TNR)\n",
    "print(\"Test set: Balanced classification accuracy = %f\" % bal_acc_debiasing_test)\n",
    "print(\"Test set: Disparate impact = %f\" % classified_metric_debiasing_test.disparate_impact())\n",
    "print(\"Test set: Equal opportunity difference = %f\" % classified_metric_debiasing_test.equal_opportunity_difference())\n",
    "print(\"Test set: Average odds difference = %f\" % classified_metric_debiasing_test.average_odds_difference())\n",
    "print(\"Test set: Theil_index = %f\" % classified_metric_debiasing_test.theil_index())"
   ]
  },
  {
   "cell_type": "markdown",
   "metadata": {},
   "source": [
    "\n",
    "    References:\n",
    "    [1] B. H. Zhang, B. Lemoine, and M. Mitchell, \"Mitigating UnwantedBiases with Adversarial Learning,\" \n",
    "    AAAI/ACM Conference on Artificial Intelligence, Ethics, and Society, 2018."
   ]
  },
  {
   "cell_type": "code",
   "execution_count": null,
   "metadata": {},
   "outputs": [],
   "source": []
  }
 ],
 "metadata": {
  "kernelspec": {
   "display_name": "Python 3 (ipykernel)",
   "language": "python",
   "name": "python3"
  },
  "language_info": {
   "codemirror_mode": {
    "name": "ipython",
    "version": 3
   },
   "file_extension": ".py",
   "mimetype": "text/x-python",
   "name": "python",
   "nbconvert_exporter": "python",
   "pygments_lexer": "ipython3",
   "version": "3.7.13"
  }
 },
 "nbformat": 4,
 "nbformat_minor": 2
}
